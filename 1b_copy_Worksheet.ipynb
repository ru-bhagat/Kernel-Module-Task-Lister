{
  "metadata": {
    "kernelspec": {
      "language": "python",
      "display_name": "Python 3",
      "name": "python3"
    },
    "language_info": {
      "pygments_lexer": "ipython3",
      "nbconvert_exporter": "python",
      "version": "3.6.4",
      "file_extension": ".py",
      "codemirror_mode": {
        "name": "ipython",
        "version": 3
      },
      "name": "python",
      "mimetype": "text/x-python"
    },
    "kaggle": {
      "accelerator": "none",
      "dataSources": [],
      "isInternetEnabled": false,
      "language": "python",
      "sourceType": "notebook",
      "isGpuEnabled": false
    },
    "colab": {
      "name": "1b-copy-Worksheet",
      "provenance": [],
      "include_colab_link": true
    }
  },
  "nbformat_minor": 0,
  "nbformat": 4,
  "cells": [
    {
      "cell_type": "markdown",
      "metadata": {
        "id": "view-in-github",
        "colab_type": "text"
      },
      "source": [
        "<a href=\"https://colab.research.google.com/github/ru-bhagat/Kernel-Module-Task-Lister/blob/main/1b_copy_Worksheet.ipynb\" target=\"_parent\"><img src=\"https://colab.research.google.com/assets/colab-badge.svg\" alt=\"Open In Colab\"/></a>"
      ]
    },
    {
      "cell_type": "markdown",
      "source": [],
      "metadata": {
        "id": "k5Tcd6WhBS6U"
      }
    },
    {
      "cell_type": "markdown",
      "source": [
        "**First Problem Ans :**"
      ],
      "metadata": {
        "id": "FqRPWLrZBS6V"
      }
    },
    {
      "cell_type": "code",
      "source": [
        "# loading the dataset - Upload the dataset under the input tab\n",
        "# Example snippet\n",
        "data <- read.csv(\"/kaggle/input/customer-satisfaction/customer_satisfaction.csv\")\n",
        "data"
      ],
      "metadata": {
        "id": "3wO9TrAEBS6W"
      },
      "execution_count": null,
      "outputs": []
    },
    {
      "cell_type": "code",
      "source": [
        "if (!requireNamespace(\"naniar\", quietly = TRUE)) {\n",
        "    install.packages(\"naniar\")\n",
        "}\n",
        "\n",
        "library(naniar)\n",
        "\n",
        "data <- read.csv(\"/kaggle/input/customer-satisfaction/customer_satisfaction.csv\")\n",
        "miss_var_summary(data)\n"
      ],
      "metadata": {
        "id": "ADDpp3oRBS6X"
      },
      "execution_count": null,
      "outputs": []
    },
    {
      "cell_type": "markdown",
      "source": [
        "**Problem 2 Answer :**"
      ],
      "metadata": {
        "id": "i4efSmEjBS6Y"
      }
    },
    {
      "cell_type": "markdown",
      "source": [
        "**Please upload wine quality dataset or upload it through add input option in kaggle. Link :**"
      ],
      "metadata": {
        "id": "2yg1orqkBS6Y"
      }
    },
    {
      "cell_type": "code",
      "source": [
        "# Define the file path\n",
        "file_path <- \"/kaggle/input/wine-dataset/wine_quality_combined.csv\"\n",
        "\n",
        "# Load the dataset\n",
        "data <- read.csv(file_path)\n",
        "\n",
        "# Display the first few rows of the dataset\n",
        "head(data)\n",
        "\n",
        "# Print the column names to verify\n",
        "print(\"Columns in the dataset:\\n\")\n",
        "print(names(data))\n"
      ],
      "metadata": {
        "id": "eYyou-U4BS6Z"
      },
      "execution_count": null,
      "outputs": []
    },
    {
      "cell_type": "code",
      "source": [
        "# Summary of the dataset\n",
        "summary(data)\n"
      ],
      "metadata": {
        "id": "n4zVt8FnBS6a"
      },
      "execution_count": null,
      "outputs": []
    },
    {
      "cell_type": "code",
      "source": [
        "# Structure of the dataset\n",
        "str(data)\n"
      ],
      "metadata": {
        "id": "hX2Ty0-MBS6a"
      },
      "execution_count": null,
      "outputs": []
    },
    {
      "cell_type": "code",
      "source": [
        "# Check for missing values\n",
        "missing_data <- colSums(is.na(data))\n",
        "print(\"Missing Data Count per Column:\\n\")\n",
        "print(missing_data)\n"
      ],
      "metadata": {
        "id": "egMHaGWkBS6b"
      },
      "execution_count": null,
      "outputs": []
    },
    {
      "cell_type": "code",
      "source": [
        "# Display the column names of the dataset\n",
        "print(\"Columns in the dataset:\\n\")\n",
        "print(names(data))\n"
      ],
      "metadata": {
        "id": "SvCttSJxBS6b"
      },
      "execution_count": null,
      "outputs": []
    },
    {
      "cell_type": "code",
      "source": [
        "# Display the column names to verify\n",
        "print(names(data))\n"
      ],
      "metadata": {
        "id": "yBpD-sR1BS6b"
      },
      "execution_count": null,
      "outputs": []
    },
    {
      "cell_type": "code",
      "source": [
        "library(ggplot2)\n",
        "\n",
        "# Load the dataset\n",
        "data <- read.csv(\"/kaggle/input/wine-dataset/wine_quality_combined.csv\")\n",
        "\n",
        "# Histogram and density plot for Total_phenols\n",
        "ggplot(data, aes(x = Total_phenols)) +\n",
        "  geom_histogram(aes(y = ..density..), binwidth = 0.1, alpha = 0.5, fill = \"red\") +\n",
        "  geom_density(alpha = 0.2, fill = \"red\") +\n",
        "  labs(title = \"Total Phenols Distribution with Density Curve\", x = \"Total Phenols\", y = \"Density\") +\n",
        "  theme_minimal()\n"
      ],
      "metadata": {
        "id": "EIQyg5qXBS6c"
      },
      "execution_count": null,
      "outputs": []
    },
    {
      "cell_type": "code",
      "source": [
        "# Histogram and density plot for Flavanoids\n",
        "ggplot(data, aes(x = Flavanoids)) +\n",
        "  geom_histogram(aes(y = ..density..), binwidth = 0.1, alpha = 0.5, fill = \"blue\") +\n",
        "  geom_density(alpha = 0.2, fill = \"blue\") +\n",
        "  labs(title = \"Flavanoids Distribution with Density Curve\", x = \"Flavanoids\", y = \"Density\") +\n",
        "  theme_minimal()\n"
      ],
      "metadata": {
        "id": "XfVu9CNLBS6c"
      },
      "execution_count": null,
      "outputs": []
    }
  ]
}